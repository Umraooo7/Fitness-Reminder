{
 "cells": [
  {
   "cell_type": "code",
   "execution_count": 1,
   "metadata": {},
   "outputs": [],
   "source": [
    "## Healthy Programmer: \n",
    "\n",
    "# 9am - 5pm\n",
    "# water - water.mp3 (3.5 lts) - Drank - log\n",
    "# Eyes - eyes.mp3 - every 30 min - EyDone - log\n",
    "# Physical activity - physical.mp3 every 45 min - ExDone - log\n",
    "# using pygame module to play audio"
   ]
  },
  {
   "cell_type": "code",
   "execution_count": 2,
   "metadata": {},
   "outputs": [
    {
     "name": "stdout",
     "output_type": "stream",
     "text": [
      "pygame 2.0.1 (SDL 2.0.14, Python 3.8.2)\n",
      "Hello from the pygame community. https://www.pygame.org/contribute.html\n"
     ]
    }
   ],
   "source": [
    "import os, sys\n",
    "import pygame\n",
    "from pygame.locals import*\n",
    "import time\n",
    "it = time.time()\n",
    "pygame.mixer.init()"
   ]
  },
  {
   "cell_type": "code",
   "execution_count": 3,
   "metadata": {},
   "outputs": [],
   "source": [
    "def getdate():\n",
    "    import datetime\n",
    "    return datetime.datetime.now()"
   ]
  },
  {
   "cell_type": "code",
   "execution_count": 4,
   "metadata": {},
   "outputs": [
    {
     "data": {
      "text/plain": [
       "977"
      ]
     },
     "execution_count": 4,
     "metadata": {},
     "output_type": "execute_result"
    }
   ],
   "source": [
    "pygame.init()\n",
    "pygame.time.get_ticks()"
   ]
  },
  {
   "cell_type": "code",
   "execution_count": 5,
   "metadata": {},
   "outputs": [
    {
     "name": "stdin",
     "output_type": "stream",
     "text": [
      "enter 1/0: 1\n",
      "enter 1/0: 1\n"
     ]
    }
   ],
   "source": [
    "# To play music\n",
    "usr = int(input(\"enter 1/0:\"))\n",
    "it = time.time()\n",
    "if usr == 1:\n",
    "    pygame.mixer.music.load('water.mp3')\n",
    "    pygame.mixer.music.play(-1)\n",
    "    usr =  int(input(\"enter 1/0:\"))\n",
    "    t = pygame.time.get_ticks()\n",
    "    if usr == 1:\n",
    "        pygame.mixer.music.stop()"
   ]
  },
  {
   "cell_type": "code",
   "execution_count": 6,
   "metadata": {},
   "outputs": [
    {
     "name": "stdout",
     "output_type": "stream",
     "text": [
      "23\n",
      "35\n"
     ]
    }
   ],
   "source": [
    "def mint():\n",
    "    fi = int(time.asctime(time.localtime(time.time()))[14:16])\n",
    "    return fi\n",
    "mint()\n",
    "\n",
    "def hr():\n",
    "    ti = int(time.asctime(time.localtime(time.time()))[11:13])\n",
    "    return ti   \n",
    "print(hr())\n",
    "print(mint())"
   ]
  },
  {
   "cell_type": "code",
   "execution_count": 7,
   "metadata": {},
   "outputs": [
    {
     "data": {
      "text/plain": [
       "'Fri Sep 24 23:35:59 2021'"
      ]
     },
     "execution_count": 7,
     "metadata": {},
     "output_type": "execute_result"
    }
   ],
   "source": [
    "time.asctime(time.localtime(time.time()))"
   ]
  },
  {
   "cell_type": "code",
   "execution_count": 8,
   "metadata": {},
   "outputs": [
    {
     "data": {
      "text/plain": [
       "False"
      ]
     },
     "execution_count": 8,
     "metadata": {},
     "output_type": "execute_result"
    }
   ],
   "source": [
    "def log_eye():\n",
    "    \"\"\"To set 45 minute timer for\"\"\"\n",
    "    return((hr() == 9 and mint() == 45) \n",
    "       or (hr() == 10 and mint() == 30)\n",
    "       or (hr() == 11 and mint() == 15)\n",
    "       or (hr() == 12 and mint() == 0)\n",
    "       or (hr() == 12 and mint() == 45)\n",
    "       or (hr() == 1 and mint() == 30)\n",
    "       or (hr() == 2 and mint() == 15)\n",
    "       or (hr() == 3 and mint() == 0)\n",
    "       or (hr() == 3 and mint() == 45)\n",
    "       or (hr() == 4 and mint() == 30)\n",
    "       or (hr() == 5 and mint() == 15)\n",
    "#        or (hr() == 23 and mint() == 30) #for testing\n",
    "      )\n",
    "    \n",
    "log_eye()"
   ]
  },
  {
   "cell_type": "code",
   "execution_count": 9,
   "metadata": {},
   "outputs": [
    {
     "name": "stdout",
     "output_type": "stream",
     "text": [
      "hour:  23  minute:  35\n",
      "3500\n",
      "Breakkk...\n"
     ]
    }
   ],
   "source": [
    "c=0\n",
    "while((hr() >= 16) and (hr() <= 24)):\n",
    "    log_eye()\n",
    "    print(\"hour: \",hr(),\" minute: \", mint())       \n",
    "    l = 3500\n",
    "#     print(l-c)  \n",
    "    \n",
    "    if ((mint() == 30) \n",
    "        or (mint() == 15) \n",
    "        or (mint() == 0) \n",
    "        or (mint() == 45)):\n",
    "        \"\"\"for drinking water\"\"\"\n",
    "        \n",
    "        pygame.mixer.music.load('water.mp3')\n",
    "        pygame.mixer.music.play(-1)\n",
    "        \n",
    "        print(\"________Time to drink Water_____\")\n",
    "        usr = (input(\"Type drank:\")).lower()\n",
    "        \n",
    "        if usr == \"drank\":\n",
    "            a = input(\"How much you drank in ml: \")\n",
    "            c = c + int(a)\n",
    "            if int(a) > 0:\n",
    "                print(l-c)\n",
    "                with open (\"LogFile.txt\",'a+') as f:\n",
    "                    f.write(str(getdate()) + ': Water drank: ' + a +' ml and ' \n",
    "                            + str(l - int(c))  + \" ml water left\\n\")\n",
    "                with open (\"LogFile.txt\") as f:\n",
    "                    print(f.readlines())\n",
    "                pygame.mixer.music.stop()\n",
    "                break   \n",
    "                \n",
    "        else:\n",
    "            print(\"just type drank\")\n",
    "                \n",
    "    if ((mint() == 30) \n",
    "          or (mint() == 0)):\n",
    "        \"\"\"For pyhsical workout\"\"\"\n",
    "        \n",
    "        pygame.mixer.music.load('pyhsical.mp3')\n",
    "        pygame.mixer.music.play(-1)\n",
    "\n",
    "        print(\"________Time to do Physical Workout_____\")\n",
    "        usr = (input(\"Type done:\")).lower()\n",
    "\n",
    "        if usr == \"done\":\n",
    "            a = input(\"Press 1: After Completing Workout-\")\n",
    "            with open (\"LogFile.txt\",'a+') as f:\n",
    "                f.write(str(getdate()) + ': Workout done\\n')\n",
    "            with open (\"LogFile.txt\") as f:\n",
    "                print(f.readlines())\n",
    "            if (int(a) > 0):\n",
    "                pygame.mixer.music.stop()\n",
    "                break   \n",
    "        else:\n",
    "            print(\"just type done\")\n",
    "    \n",
    "    if (log_eye()):\n",
    "        \"\"\"For eye workout\"\"\"\n",
    "        \n",
    "        pygame.mixer.music.load('eyes.mp3')\n",
    "        pygame.mixer.music.play(-1)\n",
    "        \n",
    "        print(\"________Time to do Eye excercise_____\")\n",
    "        usr = (input(\"Type done:\")).lower()\n",
    "\n",
    "        if usr == \"done\":\n",
    "            a = input(\"Press 1: For Completing Workout\")\n",
    "            with open (\"LogFile.txt\",'a+') as f:\n",
    "                f.write(str(getdate()) + ': Eye excercise done\\n')\n",
    "            with open (\"LogFile.txt\") as f:\n",
    "                print(f.readlines())\n",
    "            if (int(a) > 0):\n",
    "                pygame.mixer.music.stop()\n",
    "                break   \n",
    "        else:\n",
    "            print(\"just type done\")\n",
    "        \n",
    "    else:\n",
    "        print(\"Breakkk...\")\n",
    "        break\n",
    "#To remove all the break function, loop will run endlessly\n",
    "#Challenge is to do with recurssive loop.\n",
    "                "
   ]
  },
  {
   "cell_type": "code",
   "execution_count": 16,
   "metadata": {},
   "outputs": [
    {
     "name": "stdout",
     "output_type": "stream",
     "text": [
      "hour:  23  minute:  46\n",
      "Breakkk...\n"
     ]
    }
   ],
   "source": [
    "def alarm():\n",
    "    \"\"\"recursive function\"\"\" \n",
    "    c=0\n",
    "    while((hr() >= 16) and (hr() <= 24)):\n",
    "        log_eye()\n",
    "        print(\"hour: \",hr(),\" minute: \", mint())       \n",
    "        l = 3500\n",
    " \n",
    "\n",
    "        if ((mint() == 30) \n",
    "            or (mint() == 15) \n",
    "            or (mint() == 0) \n",
    "            or (mint() == 45)):\n",
    "            \"\"\"for drinking water\"\"\"\n",
    "\n",
    "            pygame.mixer.music.load('water.mp3')\n",
    "            pygame.mixer.music.play(-1)\n",
    "\n",
    "            print(\"________Time to drink Water_____\")\n",
    "            usr = (input(\"Type drank:\")).lower()\n",
    "\n",
    "            if usr == \"drank\":\n",
    "                a = input(\"How much you drank in ml: \")\n",
    "                c = c + int(a)\n",
    "                if int(a) > 0:\n",
    "                    print(l-c)\n",
    "                    with open (\"LogFile.txt\",'a+') as f:\n",
    "                        f.write(str(getdate()) + ': Water drank: ' + a +' ml and ' \n",
    "                                + str(l - int(c))  + \" ml water left\\n\")\n",
    "                    with open (\"LogFile.txt\") as f:\n",
    "                        print(f.readlines())\n",
    "                    pygame.mixer.music.stop()\n",
    "\n",
    "\n",
    "            else:\n",
    "                print(\"just type drank\")\n",
    "\n",
    "        if ((mint() == 30) \n",
    "              or (mint() == 0)):\n",
    "            \"\"\"For pyhsical workout\"\"\"\n",
    "\n",
    "            pygame.mixer.music.load('pyhsical.mp3')\n",
    "            pygame.mixer.music.play(-1)\n",
    "\n",
    "            print(\"________Time to do Physical Workout_____\")\n",
    "            usr = (input(\"Type done:\")).lower()\n",
    "\n",
    "            if usr == \"done\":\n",
    "                a = input(\"Press 1: After Completing Workout-\")\n",
    "                with open (\"LogFile.txt\",'a+') as f:\n",
    "                    f.write(str(getdate()) + ': Workout done\\n')\n",
    "                with open (\"LogFile.txt\") as f:\n",
    "                    print(f.readlines())\n",
    "                if (int(a) > 0):\n",
    "                    pygame.mixer.music.stop()\n",
    " \n",
    "            else:\n",
    "                print(\"just type done\")\n",
    "\n",
    "        if (log_eye()):\n",
    "            \"\"\"For eye workout\"\"\"\n",
    "\n",
    "            pygame.mixer.music.load('eyes.mp3')\n",
    "            pygame.mixer.music.play(-1)\n",
    "\n",
    "            print(\"________Time to do Eye excercise_____\")\n",
    "            usr = (input(\"Type done:\")).lower()\n",
    "\n",
    "            if usr == \"done\":\n",
    "                a = input(\"Press 1: For Completing Workout\")\n",
    "                with open (\"LogFile.txt\",'a+') as f:\n",
    "                    f.write(str(getdate()) + ': Eye excercise done\\n')\n",
    "                with open (\"LogFile.txt\") as f:\n",
    "                    print(f.readlines())\n",
    "                if (int(a) > 0):\n",
    "                    pygame.mixer.music.stop()\n",
    "\n",
    "            else:\n",
    "                print(\"just type done\")\n",
    "\n",
    "        else:\n",
    "            print(\"Breakkk...\")\n",
    "            break\n",
    "            alarm()\n",
    "\n",
    "            \n",
    "# There is a problem if some one drink water within a minute, it will keep running\n",
    "#To remove all the break function, loop will run endlessly\n",
    "#Challenge is to do with recurssive loop.\n",
    "alarm()"
   ]
  },
  {
   "cell_type": "code",
   "execution_count": null,
   "metadata": {},
   "outputs": [],
   "source": []
  },
  {
   "cell_type": "code",
   "execution_count": null,
   "metadata": {},
   "outputs": [],
   "source": []
  },
  {
   "cell_type": "code",
   "execution_count": null,
   "metadata": {},
   "outputs": [],
   "source": []
  }
 ],
 "metadata": {
  "kernelspec": {
   "display_name": "Python 3",
   "language": "python",
   "name": "python3"
  },
  "language_info": {
   "codemirror_mode": {
    "name": "ipython",
    "version": 3
   },
   "file_extension": ".py",
   "mimetype": "text/x-python",
   "name": "python",
   "nbconvert_exporter": "python",
   "pygments_lexer": "ipython3",
   "version": "3.8.2"
  }
 },
 "nbformat": 4,
 "nbformat_minor": 4
}
